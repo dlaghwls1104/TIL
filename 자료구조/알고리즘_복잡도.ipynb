{
 "cells": [
  {
   "cell_type": "markdown",
   "metadata": {},
   "source": [
    "# 알고리즘 복잡도 표현 방법"
   ]
  },
  {
   "cell_type": "markdown",
   "metadata": {},
   "source": [
    "## 1. 알고리즘 복잡도 계산의 필요성\n",
    "\n",
    "### 어떤 알고리즘이 가장 좋은지 판단\n",
    "### 하나의 문제를 푸는 알고리즘은 다양함\n",
    "- 1,-1 -> 1\n",
    "- 방법 1 : 정수값을 제곱한 값에 루트 씌우기\n",
    "- 방법 2 : 정수가 음수인지 확인해서, 음수일 때만, -1을 곱하기\n"
   ]
  },
  {
   "cell_type": "markdown",
   "metadata": {},
   "source": [
    "## 알고리즘 복잡도 계산 항목\n",
    "1. 시간 복잡도: 알고리즘 실행 속도\n",
    "2. 공간 복잡도: 알고리즘이 사용하는 메모리 사이즈\n",
    "-  시간복잡도를 이해하고 계산할 수 있어야 함"
   ]
  },
  {
   "cell_type": "markdown",
   "metadata": {},
   "source": [
    "## 알고리즘 시간 복잡도의 주요 요소\n",
    "\n",
    "-  반복문이 지배\n",
    "-  입력 크기가 커지면 커질수록 반복문이 알고리즘 수행 시간을 지배"
   ]
  },
  {
   "cell_type": "markdown",
   "metadata": {},
   "source": [
    "## 알고리즘 성능 표기법\n",
    "\n",
    "- Big O 표기법 : O(N)\n",
    "    - 알고리즘 최악의 실행 시간을 표기\n",
    "    - 아무리 최악의 상황이라도, 최소한의 성능은 보장한다는 의미"
   ]
  }
 ],
 "metadata": {
  "language_info": {
   "name": "python"
  },
  "orig_nbformat": 4
 },
 "nbformat": 4,
 "nbformat_minor": 2
}
