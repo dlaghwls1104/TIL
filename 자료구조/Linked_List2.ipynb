{
 "cells": [
  {
   "cell_type": "code",
   "execution_count": null,
   "metadata": {},
   "outputs": [],
   "source": [
    "## 링크드 리스트의 복잡한 기능( 특정한 기능을 삭제할 때)\n"
   ]
  },
  {
   "cell_type": "markdown",
   "metadata": {},
   "source": [
    "## 1. Head 삭제"
   ]
  },
  {
   "cell_type": "code",
   "execution_count": 1,
   "metadata": {},
   "outputs": [],
   "source": [
    "class Node:\n",
    "    def __init__ (self,data,next=None):\n",
    "        self.data=data\n",
    "        self.next=next\n",
    "\n",
    "class NodeMgmt:\n",
    "    def __init__ (self,data):\n",
    "        self.head=Node(data)\n",
    "\n",
    "    def add(self,data):\n",
    "        if self.head=='':\n",
    "            self.head=Node(data)\n",
    "        else:\n",
    "            node=self.head\n",
    "            while node.next:\n",
    "                node=node.next\n",
    "            node.next=Node(data)\n",
    "    def desc(self):\n",
    "        node=self.head\n",
    "        while node:\n",
    "            print(node.data)\n",
    "            node=node.next\n",
    "    def delete(self, data):\n",
    "        if self.head == '':\n",
    "            print(\"해당 값을 가진 노드가 없습니다.\")\n",
    "            return\n",
    "        if self.head.data == data:\n",
    "            temp = self.head\n",
    "            self.head=self.head.next\n",
    "            del temp\n",
    "        else:\n",
    "            node=self.head\n",
    "            while node.next:\n",
    "                if node.next.data == data:\n",
    "                    temp = node.next\n",
    "                    node.next =node.next.next\n",
    "                    del temp\n",
    "                else:\n",
    "                    node=node.next\n"
   ]
  },
  {
   "cell_type": "markdown",
   "metadata": {},
   "source": [
    "### 테스트를 위한 노드 생성"
   ]
  },
  {
   "cell_type": "code",
   "execution_count": 2,
   "metadata": {},
   "outputs": [
    {
     "name": "stdout",
     "output_type": "stream",
     "text": [
      "0\n"
     ]
    }
   ],
   "source": [
    "linkedlist1=NodeMgmt(0)\n",
    "linkedlist1.desc()"
   ]
  },
  {
   "cell_type": "markdown",
   "metadata": {},
   "source": [
    "### head가 살아있음을 확인"
   ]
  },
  {
   "cell_type": "code",
   "execution_count": 3,
   "metadata": {},
   "outputs": [
    {
     "data": {
      "text/plain": [
       "<__main__.Node at 0x1bc7ca02a00>"
      ]
     },
     "execution_count": 3,
     "metadata": {},
     "output_type": "execute_result"
    }
   ],
   "source": [
    "linkedlist1.head"
   ]
  },
  {
   "cell_type": "markdown",
   "metadata": {},
   "source": [
    "### head 삭제"
   ]
  },
  {
   "cell_type": "code",
   "execution_count": 4,
   "metadata": {},
   "outputs": [],
   "source": [
    "linkedlist1.delete(0)"
   ]
  },
  {
   "cell_type": "markdown",
   "metadata": {},
   "source": [
    "## 다음 코드시 아무것도 안나온다는 것은 head가 정상적 삭제를 의미"
   ]
  },
  {
   "cell_type": "code",
   "execution_count": 5,
   "metadata": {},
   "outputs": [],
   "source": [
    "linkedlist1.head"
   ]
  },
  {
   "cell_type": "markdown",
   "metadata": {},
   "source": [
    "### 다시 하나의 노드 생성"
   ]
  },
  {
   "cell_type": "code",
   "execution_count": 6,
   "metadata": {},
   "outputs": [
    {
     "name": "stdout",
     "output_type": "stream",
     "text": [
      "0\n"
     ]
    }
   ],
   "source": [
    "linkedlist1=NodeMgmt(0)\n",
    "linkedlist1.desc()"
   ]
  },
  {
   "cell_type": "markdown",
   "metadata": {},
   "source": [
    "### 이번에 여러 노드를 추가"
   ]
  },
  {
   "cell_type": "code",
   "execution_count": 7,
   "metadata": {},
   "outputs": [
    {
     "name": "stdout",
     "output_type": "stream",
     "text": [
      "0\n",
      "1\n",
      "2\n",
      "3\n",
      "4\n",
      "5\n",
      "6\n",
      "7\n",
      "8\n",
      "9\n"
     ]
    }
   ],
   "source": [
    "for data in range(1,10):\n",
    "    linkedlist1.add(data)\n",
    "linkedlist1.desc()"
   ]
  },
  {
   "cell_type": "markdown",
   "metadata": {},
   "source": [
    "### 노드 중에 한개를 삭제함(위에서 언급한 경우의 수2)\n"
   ]
  },
  {
   "cell_type": "code",
   "execution_count": 8,
   "metadata": {},
   "outputs": [],
   "source": [
    "linkedlist1.delete(4)"
   ]
  },
  {
   "cell_type": "markdown",
   "metadata": {},
   "source": [
    "### 특정 노드가 삭제되었음을 알 수 있음"
   ]
  },
  {
   "cell_type": "code",
   "execution_count": 9,
   "metadata": {},
   "outputs": [
    {
     "name": "stdout",
     "output_type": "stream",
     "text": [
      "0\n",
      "1\n",
      "2\n",
      "3\n",
      "5\n",
      "6\n",
      "7\n",
      "8\n",
      "9\n"
     ]
    }
   ],
   "source": [
    "linkedlist1.desc()"
   ]
  },
  {
   "cell_type": "code",
   "execution_count": 10,
   "metadata": {},
   "outputs": [],
   "source": [
    "linkedlist1.delete(9)"
   ]
  },
  {
   "cell_type": "code",
   "execution_count": 11,
   "metadata": {},
   "outputs": [
    {
     "name": "stdout",
     "output_type": "stream",
     "text": [
      "0\n",
      "1\n",
      "2\n",
      "3\n",
      "5\n",
      "6\n",
      "7\n",
      "8\n"
     ]
    }
   ],
   "source": [
    "linkedlist1.desc()"
   ]
  },
  {
   "cell_type": "markdown",
   "metadata": {},
   "source": [
    "## 다양한 링크드 리스트 구조\n",
    "- 더블 링크드 리스트 기본 구조\n",
    "     - 이중 연결 리스트라고도 함\n",
    "     - 장점 : 양방향으로 연결되어 있어서 노드 탐색이 양쪽으로 모두 가능"
   ]
  },
  {
   "cell_type": "code",
   "execution_count": 13,
   "metadata": {},
   "outputs": [],
   "source": [
    "class Node:\n",
    "    def __init__(self,data,prev=None,next=None):\n",
    "        self.prev=prev\n",
    "        self.data=data\n",
    "        self.next=next\n",
    "class NodeMgmt:\n",
    "    def __init__ (self,data):\n",
    "        self.head=Node(data)\n",
    "        self.tail=self.head\n",
    "    \n",
    "    def insert(self,data):\n",
    "        if self.head==None:\n",
    "            self.head=Node(data)\n",
    "            self.tail = self.head\n",
    "        else:\n",
    "            node=self.head\n",
    "            while node.next:\n",
    "                node=node.next\n",
    "            new=Node(data)\n",
    "            node.next=new\n",
    "            new.prev=node\n",
    "            self.tail=new\n",
    "    \n",
    "    def desc(self):\n",
    "        node=self.head\n",
    "        while node:\n",
    "            print(node.data)\n",
    "            node=node.next"
   ]
  },
  {
   "cell_type": "code",
   "execution_count": 14,
   "metadata": {},
   "outputs": [
    {
     "name": "stdout",
     "output_type": "stream",
     "text": [
      "0\n",
      "1\n",
      "2\n",
      "3\n",
      "4\n",
      "5\n",
      "6\n",
      "7\n",
      "8\n",
      "9\n"
     ]
    }
   ],
   "source": [
    "double_linked_lisk=NodeMgmt(0)\n",
    "for data in range(1,10):\n",
    "    double_linked_lisk.insert(data)\n",
    "double_linked_lisk.desc()"
   ]
  },
  {
   "cell_type": "code",
   "execution_count": null,
   "metadata": {},
   "outputs": [],
   "source": [
    "### 특정 노드사이에 데이터를 추가하는 함수 생성"
   ]
  },
  {
   "cell_type": "code",
   "execution_count": null,
   "metadata": {},
   "outputs": [],
   "source": [
    "class Node:\n",
    "    def __init__(self,data,prev=None,next=None):\n",
    "        self.prev=prev\n",
    "        self.data=data\n",
    "        self.next=next\n",
    "class NodeMgmt:\n",
    "    def __init__ (self,data):\n",
    "        self.head=Node(data)\n",
    "        self.tail=self.head\n",
    "    \n",
    "    def insert(self,data):\n",
    "        if self.head==None:\n",
    "            self.head=Node(data)\n",
    "            self.tail = self.head\n",
    "        else:\n",
    "            node=self.head\n",
    "            while node.next:\n",
    "                node=node.next\n",
    "            new=Node(data)\n",
    "            node.next=new\n",
    "            new.prev=node\n",
    "            self.tail=new\n",
    "    \n",
    "    def desc(self):\n",
    "        node=self.head\n",
    "        while node:\n",
    "            print(node.data)\n",
    "            node=node.next\n",
    "\n",
    "    def search_from_head(self,data):\n",
    "        node=self.head\n",
    "        while node:\n",
    "            if node.data ==data:\n",
    "                return node\n",
    "            else:\n",
    "                node=node.next\n",
    "        return False\n",
    "\n",
    "    \n",
    "    def search_from_tail(self,data):\n",
    "        node=self.head\n",
    "        while node:\n",
    "            if node.data ==data:\n",
    "                return node\n",
    "            else:\n",
    "                node=node.prev\n",
    "        return False"
   ]
  }
 ],
 "metadata": {
  "interpreter": {
   "hash": "cf70cbe84d1633a533c7431ecac2243355029bdd15dd62d2435d0fa8261eedad"
  },
  "kernelspec": {
   "display_name": "Python 3.8.5 64-bit ('base': conda)",
   "language": "python",
   "name": "python3"
  },
  "language_info": {
   "codemirror_mode": {
    "name": "ipython",
    "version": 3
   },
   "file_extension": ".py",
   "mimetype": "text/x-python",
   "name": "python",
   "nbconvert_exporter": "python",
   "pygments_lexer": "ipython3",
   "version": "3.8.5"
  },
  "orig_nbformat": 4
 },
 "nbformat": 4,
 "nbformat_minor": 2
}
