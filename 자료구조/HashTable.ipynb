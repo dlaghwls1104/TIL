{
 "cells": [
  {
   "cell_type": "markdown",
   "metadata": {},
   "source": [
    "# 해쉬구조\n",
    "\n",
    "- hash table: key에 value를 저장하는 데이터 구조\n",
    "      - key를 통해 바로 데이터를 받아올 수 있으므로, 속도가 획기적으로 빨라짐\n",
    "      - 딕셔너리 타입이 해쉬 테이블의 예:key를 활용하여 value를 꺼냄\n",
    "      - 파이썬은 해쉬구현 필요x 딕셔너리구조사용하면됨"
   ]
  },
  {
   "cell_type": "markdown",
   "metadata": {},
   "source": [
    "## 용어\n",
    "- Hash: 임의 값을 고정 길이로 변환하는 것\n",
    "- hash table: 키 값의 연산에 의해 직접 접근이 가능한 데이터 구조\n",
    "- hashing fuction: key에 대해 산술 연산을 이용해 데이터 위치를 찾을 수 잇는 함수\n",
    "- hash value or hash address: key를 해싱 함수로 연산해서 해쉬 값을 알아내고, 이를 기반으로 해쉬 테이블에서 해당 key에 대한 데이터 위치를 일관성 있게 찾을 수 있음\n",
    "- slot: 한 개의 데이터를 저장할 수 있는 공간\n",
    "- 저장할 데이터에 대해 key를 추출할 수 있는 별도 함수 존재가능성 있음"
   ]
  },
  {
   "cell_type": "markdown",
   "metadata": {},
   "source": [
    "## hash table 구현"
   ]
  },
  {
   "cell_type": "code",
   "execution_count": 12,
   "metadata": {},
   "outputs": [
    {
     "data": {
      "text/plain": [
       "[0, 0, 0, 0, 0, 0, 0, 0, 0, 0]"
      ]
     },
     "execution_count": 12,
     "metadata": {},
     "output_type": "execute_result"
    }
   ],
   "source": [
    "hash_table=list([0 for i in range(10)])\n",
    "hash_table"
   ]
  },
  {
   "cell_type": "markdown",
   "metadata": {},
   "source": [
    "## 간단 해쉬 함수\n",
    "- 다양한 해쉬함수 고안 기법이 있으면, 가장 간단한 방식이 divition법"
   ]
  },
  {
   "cell_type": "code",
   "execution_count": 13,
   "metadata": {},
   "outputs": [],
   "source": [
    "def hash_func(key):\n",
    "    return key%5"
   ]
  },
  {
   "cell_type": "markdown",
   "metadata": {},
   "source": [
    "## 해쉬 테이블 저장\n",
    "- 데이터에 따라 필요시 key 생성 방법 정의가 필요함"
   ]
  },
  {
   "cell_type": "code",
   "execution_count": 14,
   "metadata": {},
   "outputs": [
    {
     "name": "stdout",
     "output_type": "stream",
     "text": [
      "65 68 84\n",
      "65 0\n"
     ]
    }
   ],
   "source": [
    "data1=\"Andy\"\n",
    "data2=\"Dave\"\n",
    "data3=\"Trump\"\n",
    "print(ord(data1[0]),ord(data2[0]),ord(data3[0]))\n",
    "print(ord(data1[0]),hash_func(ord(data1[0])))"
   ]
  },
  {
   "cell_type": "markdown",
   "metadata": {},
   "source": [
    "## 해쉬 테이블 값 저장 예시\n",
    "- data:value와 같이 data와 value를 넣으면, 해당 data에 대한 key를 찾아서, 해당 key에 대응하는 해쉬 주소에 value를 저장하는 예"
   ]
  },
  {
   "cell_type": "code",
   "execution_count": 15,
   "metadata": {},
   "outputs": [],
   "source": [
    "def storage_data(data,value):\n",
    "    key=ord(data[0])\n",
    "    hash_address=hash_func(key)\n",
    "    hash_table[hash_address]= value"
   ]
  },
  {
   "cell_type": "markdown",
   "metadata": {},
   "source": [
    "## 해쉬 테이블에서 특정 주소의 데이터를 가져오는 함수"
   ]
  },
  {
   "cell_type": "code",
   "execution_count": 17,
   "metadata": {},
   "outputs": [],
   "source": [
    "storage_data('Andy','01092419241')\n",
    "storage_data('Dave','01072249144')\n",
    "storage_data('Trump','01032243144')"
   ]
  },
  {
   "cell_type": "code",
   "execution_count": 18,
   "metadata": {},
   "outputs": [],
   "source": [
    "def get_data(data):\n",
    "    key=ord(data[0])\n",
    "    hash_address=hash_func(key)\n",
    "    return hash_table[hash_address]"
   ]
  },
  {
   "cell_type": "code",
   "execution_count": 19,
   "metadata": {},
   "outputs": [
    {
     "data": {
      "text/plain": [
       "'01092449244'"
      ]
     },
     "execution_count": 19,
     "metadata": {},
     "output_type": "execute_result"
    }
   ],
   "source": [
    "get_data('Andy')"
   ]
  },
  {
   "cell_type": "markdown",
   "metadata": {},
   "source": [
    "## 해쉬테이블의 장단점과 주요 용도\n",
    "- 장점\n",
    "   - 데이터 검색속도가 빠르다\n",
    "   - 해쉬는 키에 대한 데이터가 있는지 확인이 쉬움\n",
    "- 단점\n",
    "   - 일반적으로 저장공간이 좀더 많이 필요하다\n",
    "   - 여러 키에 해당하는 주소가 동일할 경우 충돌을 해결하기 위한 별도 자료구조가 필요함\n",
    "- 주요 용도\n",
    "   - 검색이 많이 필요한 경우\n",
    "   - 저장,삭제,읽기가 빈번한 경우\n",
    "   - 캐쉬 구현시(중복 확인이 쉽기 때문)"
   ]
  },
  {
   "cell_type": "markdown",
   "metadata": {},
   "source": [
    "## 프로그래밍 연습\n",
    "- 연습 1: 리스트 변수를 활용해서 해쉬 테이블 구현해보기\n",
    "1. 해쉬함수 : key % 8\n",
    "2. 해쉬 키 생성: hash(data)"
   ]
  },
  {
   "cell_type": "code",
   "execution_count": 2,
   "metadata": {},
   "outputs": [],
   "source": [
    "hash_table=list([0 for i in range(8)])\n",
    "\n",
    "def get_key(data):\n",
    "    return hash(data)\n",
    "def hash_function(key):\n",
    "    return key % 8\n",
    "def save_data(data,value):\n",
    "    hash_address=hash_function(get_key(data))\n",
    "    hash_table[hash_address] = value\n",
    "def read_data(data):\n",
    "    hash_address=hash_function(get_key(data))\n",
    "    return hash_table[hash_address]"
   ]
  },
  {
   "cell_type": "code",
   "execution_count": 3,
   "metadata": {},
   "outputs": [
    {
     "data": {
      "text/plain": [
       "'01024641311'"
      ]
     },
     "execution_count": 3,
     "metadata": {},
     "output_type": "execute_result"
    }
   ],
   "source": [
    "save_data('Dave','01024641311')\n",
    "save_data('Any','010465481311')\n",
    "read_data('Dave')"
   ]
  },
  {
   "cell_type": "code",
   "execution_count": 4,
   "metadata": {},
   "outputs": [
    {
     "data": {
      "text/plain": [
       "[0, '010465481311', '01024641311', 0, 0, 0, 0, 0]"
      ]
     },
     "execution_count": 4,
     "metadata": {},
     "output_type": "execute_result"
    }
   ],
   "source": [
    "hash_table"
   ]
  },
  {
   "cell_type": "code",
   "execution_count": null,
   "metadata": {},
   "outputs": [],
   "source": [
    "## 6. 충돌 해결 알고리즘"
   ]
  },
  {
   "cell_type": "markdown",
   "metadata": {},
   "source": [
    "### chaining\n",
    "\n",
    "- open hashing : 해쉬 테이블 저장 공간 외의 공간을 활용하는 기법\n",
    "- 충돌이 일어나면, 링크드 리스트 자료구조를 사용해 , 링크드 리스트로 데이터를 추가로 뒤에 연결 시켜서 저장하는 기법"
   ]
  },
  {
   "cell_type": "code",
   "execution_count": null,
   "metadata": {},
   "outputs": [],
   "source": [
    "hash_table=list([0 for i in range(8)])\n",
    "\n",
    "def get_key(data):\n",
    "    return hash(data)\n",
    "def hash_function(key):\n",
    "    return key % 8\n",
    "def save_data(data,value):\n",
    "    index_key = get_key(data)\n",
    "    hash_address=hash_function(get_key(data))\n",
    "    if hash_table[hash_address] !=0:\n",
    "        for index in range(len(hash_table[hash_address])):\n",
    "            if hash_table[hash_address][index][0] == index_key:\n",
    "                hash_table[hash_address][index][1] == value\n",
    "                return\n",
    "        hash_table[hash_address].append([index_key,value])\n",
    "    else:\n",
    "        hash_table[hash_address] = list([index_key,value])\n",
    "            \n",
    "    hash_table[hash_address] = value\n",
    "def read_data(data):\n",
    "    index_key = get_key(data)\n",
    "    hash_address=hash_function(get_key(data))\n",
    "    if hash_table[hash_address] != 0:\n",
    "        for index in range(len(hash_table[hash_address])):\n",
    "            if hash_table[hash_address][index][1]\n",
    "        return None\n",
    "    else:\n",
    "        return None\n",
    "    return hash_table[hash_address]"
   ]
  },
  {
   "cell_type": "markdown",
   "metadata": {},
   "source": [
    "### Linear probing"
   ]
  }
 ],
 "metadata": {
  "interpreter": {
   "hash": "cf70cbe84d1633a533c7431ecac2243355029bdd15dd62d2435d0fa8261eedad"
  },
  "kernelspec": {
   "display_name": "Python 3.8.5 64-bit ('base': conda)",
   "language": "python",
   "name": "python3"
  },
  "language_info": {
   "codemirror_mode": {
    "name": "ipython",
    "version": 3
   },
   "file_extension": ".py",
   "mimetype": "text/x-python",
   "name": "python",
   "nbconvert_exporter": "python",
   "pygments_lexer": "ipython3",
   "version": "3.8.5"
  },
  "orig_nbformat": 4
 },
 "nbformat": 4,
 "nbformat_minor": 2
}
