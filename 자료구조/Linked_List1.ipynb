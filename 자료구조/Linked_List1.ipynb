{
 "cells": [
  {
   "cell_type": "markdown",
   "metadata": {},
   "source": [
    "## 링크드 리스트 구조\n",
    "- 링크드 리스트는 떨어진 곳에 존재하는 데이터를 화살표로 연결해 관리하는 데이터 구조\n",
    "- 배열은 순차적으로 연결된 공간에 데이터를 나열하는 데이터 구조 "
   ]
  },
  {
   "cell_type": "markdown",
   "metadata": {},
   "source": [
    "## 링크스 리스트 용어\n",
    "- Node: 데이터 저장 단위(데이터 값,포인터)로 구성\n",
    "- 포인터(pointer): 각 노드 안에서, 다음이나 이전의 노드와의 연결 정보를 가지고 있는 공간"
   ]
  },
  {
   "cell_type": "markdown",
   "metadata": {},
   "source": [
    "## 링크드 리스트 구현"
   ]
  },
  {
   "cell_type": "markdown",
   "metadata": {},
   "source": [
    "### Node 구현"
   ]
  },
  {
   "cell_type": "code",
   "execution_count": 8,
   "metadata": {},
   "outputs": [],
   "source": [
    "class Node:\n",
    "    def __init__(self,data):\n",
    "        self.data=data\n",
    "        self.next=None"
   ]
  },
  {
   "cell_type": "code",
   "execution_count": 9,
   "metadata": {},
   "outputs": [],
   "source": [
    "class Node:\n",
    "    def __init__(self,data,next=None):\n",
    "        self.data=data\n",
    "        self.next=next"
   ]
  },
  {
   "cell_type": "code",
   "execution_count": 10,
   "metadata": {},
   "outputs": [],
   "source": [
    "node1=Node(1)\n",
    "node2=Node(2)\n",
    "node1.next=node2\n",
    "head=node1"
   ]
  },
  {
   "cell_type": "code",
   "execution_count": 12,
   "metadata": {},
   "outputs": [],
   "source": [
    "class Node:\n",
    "    def __init__(self,data,next=None):\n",
    "        self.data=data\n",
    "        self.next=next\n",
    "def add(data):\n",
    "    node=head\n",
    "    while node.next:\n",
    "        node=node.next\n",
    "    node.next=Node(data)"
   ]
  },
  {
   "cell_type": "code",
   "execution_count": 13,
   "metadata": {},
   "outputs": [],
   "source": [
    "node1=Node(1)\n",
    "head=node1\n",
    "for i in range(2,10):\n",
    "    add(i)"
   ]
  },
  {
   "cell_type": "code",
   "execution_count": 14,
   "metadata": {},
   "outputs": [
    {
     "name": "stdout",
     "output_type": "stream",
     "text": [
      "1\n",
      "2\n",
      "3\n",
      "4\n",
      "5\n",
      "6\n",
      "7\n",
      "8\n",
      "9\n"
     ]
    }
   ],
   "source": [
    "node=head\n",
    "while node.next:\n",
    "    print(node.data)\n",
    "    node=node.next\n",
    "print(node.data)"
   ]
  },
  {
   "cell_type": "markdown",
   "metadata": {},
   "source": [
    "## 링크드 리스트의 장단점\n",
    "- 장점\n",
    "      -미리데이터 공간을 할당하지 않아도 됨 (배열의 경우 미리 데이터 공간을 할당해야 함)\n",
    "\n",
    "- 단점\n",
    "      - 연결을 위한 별도의 데이터 공간이 필요하기때문에 저장공간 효율이 좋지 않음\n",
    "      - 연결 정보를 찾는 시간이 필요하므로 접근 속도가 느리다.\n",
    "      - 중간 데이터 삭제시, 앞뒤 데이터의 연결을 재구성해야하는 부가적 작업 필요"
   ]
  },
  {
   "cell_type": "markdown",
   "metadata": {},
   "source": [
    "### 중간에 새로운 노드를 넣을때"
   ]
  },
  {
   "cell_type": "code",
   "execution_count": 15,
   "metadata": {},
   "outputs": [
    {
     "name": "stdout",
     "output_type": "stream",
     "text": [
      "1\n",
      "2\n",
      "3\n",
      "4\n",
      "5\n",
      "6\n",
      "7\n",
      "8\n",
      "9\n"
     ]
    }
   ],
   "source": [
    "node=head\n",
    "while node.next:\n",
    "    print(node.data)\n",
    "    node=node.next\n",
    "print(node.data)"
   ]
  },
  {
   "cell_type": "code",
   "execution_count": 16,
   "metadata": {},
   "outputs": [],
   "source": [
    "node3=Node(1.5)"
   ]
  },
  {
   "cell_type": "code",
   "execution_count": 17,
   "metadata": {},
   "outputs": [],
   "source": [
    "node=head\n",
    "search=True\n",
    "while search:\n",
    "    if node.data == 1:\n",
    "        search=False\n",
    "    else:\n",
    "        node=node.next\n",
    "\n",
    "node_next=node.next\n",
    "node.next=node3\n",
    "node3.next=node_next"
   ]
  },
  {
   "cell_type": "code",
   "execution_count": 18,
   "metadata": {},
   "outputs": [
    {
     "name": "stdout",
     "output_type": "stream",
     "text": [
      "1\n",
      "1.5\n",
      "2\n",
      "3\n",
      "4\n",
      "5\n",
      "6\n",
      "7\n",
      "8\n",
      "9\n"
     ]
    }
   ],
   "source": [
    "node=head\n",
    "while node.next:\n",
    "    print(node.data)\n",
    "    node=node.next\n",
    "print(node.data)"
   ]
  },
  {
   "cell_type": "markdown",
   "metadata": {},
   "source": [
    "### 파이썬 객체지향 프로그래밍으로 링크드 리스트 구현"
   ]
  },
  {
   "cell_type": "code",
   "execution_count": 19,
   "metadata": {},
   "outputs": [],
   "source": [
    "class Node:\n",
    "    def __init__ (self,data,next=None):\n",
    "        self.data=data\n",
    "        self.next=next\n",
    "\n",
    "class NodeMgmt:\n",
    "    def __init__ (self,data):\n",
    "        self.head=Node(data)\n",
    "\n",
    "    def add(self,data):\n",
    "        if self.head=='':\n",
    "            self.head=Node(data)\n",
    "        else:\n",
    "            node=self.head\n",
    "            while node.next:\n",
    "                node=node.next\n",
    "            node.next=Node(data)\n",
    "    def desc(self):\n",
    "        node=self.head\n",
    "        while node:\n",
    "            print(node.data)\n",
    "            node=node.next"
   ]
  },
  {
   "cell_type": "code",
   "execution_count": 20,
   "metadata": {},
   "outputs": [
    {
     "name": "stdout",
     "output_type": "stream",
     "text": [
      "0\n"
     ]
    }
   ],
   "source": [
    "linkedlist1=NodeMgmt(0)\n",
    "linkedlist1.desc()"
   ]
  },
  {
   "cell_type": "code",
   "execution_count": 21,
   "metadata": {},
   "outputs": [
    {
     "name": "stdout",
     "output_type": "stream",
     "text": [
      "0\n",
      "1\n",
      "2\n",
      "3\n",
      "4\n",
      "5\n",
      "6\n",
      "7\n",
      "8\n",
      "9\n"
     ]
    }
   ],
   "source": [
    "for data in range(1,10):\n",
    "    linkedlist1.add(data)\n",
    "linkedlist1.desc()"
   ]
  }
 ],
 "metadata": {
  "interpreter": {
   "hash": "cf70cbe84d1633a533c7431ecac2243355029bdd15dd62d2435d0fa8261eedad"
  },
  "kernelspec": {
   "display_name": "Python 3.8.5 64-bit ('base': conda)",
   "language": "python",
   "name": "python3"
  },
  "language_info": {
   "codemirror_mode": {
    "name": "ipython",
    "version": 3
   },
   "file_extension": ".py",
   "mimetype": "text/x-python",
   "name": "python",
   "nbconvert_exporter": "python",
   "pygments_lexer": "ipython3",
   "version": "3.8.5"
  },
  "orig_nbformat": 4
 },
 "nbformat": 4,
 "nbformat_minor": 2
}
