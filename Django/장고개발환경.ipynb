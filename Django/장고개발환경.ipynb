{
 "cells": [
  {
   "cell_type": "markdown",
   "metadata": {},
   "source": [
    "# 가상환경 만들기"
   ]
  },
  {
   "cell_type": "code",
   "execution_count": null,
   "metadata": {},
   "outputs": [],
   "source": [
    "1. 가상환경을 위한 폴더 생성 (예:python_venv) \n",
    "\n",
    "2. python_venv폴더에서 cmd창에 아래 명령어 입력\n",
    ": python -m venv djangovenv\n",
    "\n",
    "3. activate 프로그램을 실행하여 가상환경 활성화\n",
    ": cd djangovenv\\Scripts\n",
    ": activate\n",
    "\n",
    "4. 앞에 (djangovenv)라는 가상환경이 활성화 되면 가상환경 안에 장고 설치\n",
    ": python_venv\\djangovenv\\Scripts> pip install django\n",
    "\n",
    "5. 업그레이드\n",
    ": python -m pip install --upgrade pip\n"
   ]
  },
  {
   "cell_type": "markdown",
   "metadata": {},
   "source": [
    "# 장고 프로젝트 생성"
   ]
  },
  {
   "cell_type": "code",
   "execution_count": null,
   "metadata": {},
   "outputs": [],
   "source": [
    "1. 장고프로젝트 생성을 위한 폴더 생성 (예:djangoExample)\n",
    "\n",
    "2. cd djangoExample에 이동 후\n",
    ": django-admin startproject studyproject\n",
    "\n",
    "3. 앱 생성\n",
    "python manage.py startapp firstapp\n",
    "\n",
    "\n"
   ]
  },
  {
   "cell_type": "markdown",
   "metadata": {},
   "source": [
    "# static 경로 설정"
   ]
  },
  {
   "cell_type": "code",
   "execution_count": null,
   "metadata": {},
   "outputs": [],
   "source": [
    "STATIC_URL = 'static/'\n",
    "STATICFILES_DIRS = [\n",
    "    BASE_DIR / 'static',\n",
    "]"
   ]
  },
  {
   "cell_type": "markdown",
   "metadata": {},
   "source": [
    "## 프로젝트 하위 폴더가 아닌 앱 폴더 하위에 static 폴더를 관리하고 싶으면"
   ]
  },
  {
   "cell_type": "code",
   "execution_count": null,
   "metadata": {},
   "outputs": [],
   "source": [
    "STATIC_URL = 'static/'\n",
    "STATICFILES_DIRS = [\n",
    "    BASE_DIR / 'static',\n",
    "    os.path.join(BASE_DIR,'staticapp','static')\n",
    "]"
   ]
  },
  {
   "cell_type": "markdown",
   "metadata": {},
   "source": [
    "# 전역 template 디렉토리 설정"
   ]
  },
  {
   "cell_type": "code",
   "execution_count": null,
   "metadata": {},
   "outputs": [],
   "source": [
    "settings.py 에 TEMPLATES 찾아가서\n",
    "'DIRS': [], 를 밑에 명령어로 바꾸기\n",
    "'DIRS': [BASE_DIR / 'basetemplates'],"
   ]
  }
 ],
 "metadata": {
  "language_info": {
   "name": "python"
  },
  "orig_nbformat": 4
 },
 "nbformat": 4,
 "nbformat_minor": 2
}
