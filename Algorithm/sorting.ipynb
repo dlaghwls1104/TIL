{
 "cells": [
  {
   "cell_type": "markdown",
   "metadata": {},
   "source": [
    "# 버블정렬\n",
    "매번 연속된 두개의 인덱스를 비교\n",
    "비교시마다 큰 값이 뒤로 이동하고 다음 인덱스로 이동 후 비교\n",
    "배열을 한바퀴 돌면 비교한 수 중 가장 큰 값이 마지막으로 저장되므로\n",
    "다음 바퀴 돌 때는 가장 마지막 수는 제외"
   ]
  },
  {
   "cell_type": "code",
   "execution_count": null,
   "metadata": {},
   "outputs": [],
   "source": [
    "def bubblesort(data):\n",
    "    for index in range(len(data) - 1):\n",
    "        swap = False\n",
    "        for index2 in range(len(data) - index - 1):\n",
    "            if data[index2] > data[index2 + 1]:\n",
    "                data[index2], data[index2 + 1] = data[index2 + 1], data[index2]\n",
    "                swap = True\n",
    "        \n",
    "        if swap == False:\n",
    "            break\n",
    "    return data"
   ]
  },
  {
   "cell_type": "markdown",
   "metadata": {},
   "source": [
    "### 5. 알고리즘 분석\n",
    "* 반복문이 두 개 O($n^2$)\n",
    "  - 최악의 경우, <font size=5em>$\\frac { n * (n - 1)}{ 2 }$</font>\n",
    "* 완전 정렬이 되어 있는 상태라면 최선은 O(n)"
   ]
  },
  {
   "cell_type": "markdown",
   "metadata": {},
   "source": [
    "# 선택정렬(selection sort)\n",
    "최소값 열의 왼쪽 끝에 있는 값과 교환하여 정렬한다\n",
    "최소값이 이미 왼쪽 끝에 잇으면 작업 x\n",
    "동일한 작업을 모든 값이 정렬을 마칠때 까지 반복"
   ]
  },
  {
   "cell_type": "code",
   "execution_count": null,
   "metadata": {},
   "outputs": [],
   "source": [
    "def selection_sort(data):\n",
    "    for stand in range(len(data) - 1):\n",
    "        lowest = stand\n",
    "        for index in range(stand + 1, len(data)):\n",
    "            if data[lowest] > data[index]:\n",
    "                lowest = index\n",
    "        data[lowest], data[stand] = data[stand], data[lowest]\n",
    "    return data"
   ]
  },
  {
   "cell_type": "markdown",
   "metadata": {},
   "source": [
    "### 4. 알고리즘 분석\n",
    "* 반복문이 두 개 O($n^2$)\n",
    "  - 실제로 상세하게 계산하면, <font size=5em>$\\frac { n * (n - 1)}{ 2 }$</font>"
   ]
  },
  {
   "cell_type": "markdown",
   "metadata": {},
   "source": [
    "# 삽입정렬(insertion sort)\n",
    "* 삽입 정렬은 두 번째 인덱스부터 시작\n",
    "* 해당 인덱스(key 값) 앞에 있는 데이터(B)부터 비교해서 key 값이 더 작으면, B값을 뒤 인덱스로 복사\n",
    "* 이를 key 값이 더 큰 데이터를 만날때까지 반복, 그리고 큰 데이터를 만난 위치 바로 뒤에 key 값을 이동"
   ]
  },
  {
   "cell_type": "code",
   "execution_count": null,
   "metadata": {},
   "outputs": [],
   "source": [
    "def insertion_sort(data):\n",
    "    for index in range(len(data) - 1):\n",
    "        for index2 in range(index + 1, 0, -1):\n",
    "            if data[index2] < data[index2 - 1]:\n",
    "                data[index2], data[index2 - 1] = data[index2 - 1], data[index2]\n",
    "            else:\n",
    "                break\n",
    "    return data"
   ]
  },
  {
   "cell_type": "markdown",
   "metadata": {},
   "source": [
    "### 4. 알고리즘 분석\n",
    "* 반복문이 두 개 O($n^2$)\n",
    "  - 최악의 경우, <font size=5em>$\\frac { n * (n - 1)}{ 2 }$</font>\n",
    "* 완전 정렬이 되어 있는 상태라면 최선은 O(n)"
   ]
  }
 ],
 "metadata": {
  "language_info": {
   "name": "python"
  },
  "orig_nbformat": 4
 },
 "nbformat": 4,
 "nbformat_minor": 2
}
